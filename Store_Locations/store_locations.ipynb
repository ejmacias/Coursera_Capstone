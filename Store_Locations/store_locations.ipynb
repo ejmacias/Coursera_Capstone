{
 "cells": [
  {
   "cell_type": "markdown",
   "metadata": {},
   "source": [
    "# Store locations\n",
    "*__Finding the optimal location for a low-cost supermarket in Madrid__*"
   ]
  },
  {
   "cell_type": "markdown",
   "metadata": {},
   "source": [
    "## Table of Contents\n",
    "\n",
    "* [Introduction](#introduction)\n",
    "    * [Background](#background)\n",
    "    * [Business problem](#business-problem)\n",
    "* [Data](#data)\n",
    "    * [Wikipedia](#wikipedia)\n",
    "    * [Geospatial data](#geospatial-data)\n",
    "    * [Census data](#census-data)\n",
    "* [Methodology](#methodology)\n",
    "    * [Data acquisition](#data-acquisition)\n",
    "        * [Scrapping Wikipedia](#scrapping-wikipedia)\n",
    "        * [Requesting Foursquare API for geospatial data](#requesting-foursquare)\n",
    "        * [Loading census data file](#loading-census)\n",
    "    * [Neighbourhood segmentation](#neighbourhood-segmentation)\n",
    "    * [Census analysis](#census-analysis)\n",
    "* [Results and discussion](#results-and-discussion)\n",
    "* [Conclusion](#conclusion)"
   ]
  },
  {
   "cell_type": "markdown",
   "metadata": {},
   "source": [
    "## Introduction <a class=\"anchor\" id=\"introduction\"></a>"
   ]
  },
  {
   "cell_type": "markdown",
   "metadata": {},
   "source": [
    "### Background <a class=\"anchor\" id=\"background\"></a>"
   ]
  },
  {
   "cell_type": "markdown",
   "metadata": {},
   "source": [
    "Opening a physical store is not without risks. One the most obvious risks to evaluate before opening a new store is receiving enough customers to make the business profitable. Therefore it is essential to pick the right location to make sure it is convenient for the customers and there is enough demand for a new store in the area.\n",
    "\n",
    "Identifying the target customers is also key taking into account the behaviour of the different groups of consumers and the stores they usually buy at."
   ]
  },
  {
   "cell_type": "markdown",
   "metadata": {},
   "source": [
    "### Business problem <a class=\"anchor\" id=\"business-problem\"></a>"
   ]
  },
  {
   "cell_type": "markdown",
   "metadata": {},
   "source": [
    "In this project, we tackle the problem of a low-cost supermarket chain trying to decide in which area of Madrid (Spain) they should open their new store in order to maximise the revenue. It is important to note that the city of Madrid consists of 21 districts and 131 neighbourhoods with great differences between them. \n",
    "\n",
    "The goal is to identify the optimal neighbourhood for opening a store taking different factors into consideration such as the types of neighbourhood (a residential area would be ideal), the amount of people living in those areas (the higher the population the higher the food demand), their average income (working class people are preferred) and the stores that are already available (avoiding areas with a big density of supermarkets).\n",
    "\n",
    "Using data science, geospatial analysis and machine learning techniques, this project aims to provide a solution for this problem and recommending the best neighbourhood for opening the low-cost supermarket."
   ]
  },
  {
   "cell_type": "markdown",
   "metadata": {},
   "source": [
    "## Data <a class=\"anchor\" id=\"data\"></a>"
   ]
  },
  {
   "cell_type": "markdown",
   "metadata": {},
   "source": [
    "The following sections describe the data that is needed for answering this business question."
   ]
  },
  {
   "cell_type": "markdown",
   "metadata": {},
   "source": [
    "### Wikipedia <a class=\"anchor\" id=\"wikipedia\"></a>"
   ]
  },
  {
   "cell_type": "markdown",
   "metadata": {},
   "source": [
    "The first data that we need is the list of neighbourhoods in Madrid. Even though this information could have been directly obtained from a CSV file from Madrid city council, it has been decided to use web scraping on Wikipedia for learning purposes.\n",
    "\n",
    "The Wikipedia page “List of neighbourhoods of Madrid” shows a table with the name of each neighbourhood for each of the 21 districts. In our project, we will work directly with the neighbourhoods and ignore the districts since this way we can perform a more granular analysis of the areas."
   ]
  },
  {
   "cell_type": "markdown",
   "metadata": {},
   "source": [
    "<p align=\"center\">\n",
    "  <img width=\"500\" height=\"500\" src=\"img/wikipedia_madrid.png\">\n",
    "</p>"
   ]
  },
  {
   "cell_type": "markdown",
   "metadata": {},
   "source": [
    "<p style=\"text-align: center;\">\n",
    "    Source: \n",
    "    <a href=\"https://en.wikipedia.org/wiki/List_of_neighborhoods_of_Madrid\">https://en.wikipedia.org/wiki/List_of_neighborhoods_of_Madrid</a>\n",
    "</p>"
   ]
  },
  {
   "cell_type": "markdown",
   "metadata": {},
   "source": [
    "### Geospatial data <a class=\"anchor\" id=\"geospatial-data\"></a>"
   ]
  },
  {
   "cell_type": "markdown",
   "metadata": {},
   "source": [
    "Since the plan is to target residential areas, we need to analyse the type of food venues present in each neighbourhood. With the Foursquare API we can explore the different food venues, considering that a big density of bars and restaurants over very few supermarkets will most likely refer to a business or recreational area where people don’t usually buy at supermarkets. In the other hand, a large proportion of supermarkets over the rest of food venues might indicate it is a residential area where people normally make their food shopping.\n",
    "\n",
    "Before we can make use of the Foursquare API we need to convert the neighbourhood names into a pair of latitude and longitude coordinates. We can acquire this with the _geocoder_ Python library.\n",
    "We can query the Foursquare API using the HTTP GET method on the explore endpoint indicating the geographical coordinates, venue categories and radius."
   ]
  },
  {
   "cell_type": "markdown",
   "metadata": {},
   "source": [
    "<p align=\"center\">\n",
    "  <img width=\"500\" height=\"500\" src=\"img/foursquare_api.png\">\n",
    "</p>"
   ]
  },
  {
   "cell_type": "markdown",
   "metadata": {},
   "source": [
    "<p style=\"text-align: center;\">\n",
    "    Source: \n",
    "    <a href=\"https://developer.foursquare.com/docs/api-reference/venues/explore/\">https://developer.foursquare.com/docs/api-reference/venues/explore/</a>\n",
    "</p>"
   ]
  },
  {
   "cell_type": "markdown",
   "metadata": {},
   "source": [
    "### Census data <a class=\"anchor\" id=\"census-data\"></a>"
   ]
  },
  {
   "cell_type": "markdown",
   "metadata": {},
   "source": [
    "Finally we will need data from the census of Madrid. We can obtained this data from Excel files that are accessible from the Madrid city council website. Particularly we are interested in the population and the average income of each neighbourhood."
   ]
  },
  {
   "cell_type": "markdown",
   "metadata": {},
   "source": [
    "<p align=\"center\">\n",
    "  <img width=\"500\" height=\"500\" src=\"img/census_population.png\">\n",
    "</p>"
   ]
  },
  {
   "cell_type": "markdown",
   "metadata": {},
   "source": [
    "<p style=\"text-align: center;\">\n",
    "    Source: \n",
    "    <a href=\"http://www-2.munimadrid.es/TSE6/control/seleccionDatosBarrio\">http://www-2.munimadrid.es/TSE6/control/seleccionDatosBarrio</a>\n",
    "</p>"
   ]
  },
  {
   "cell_type": "markdown",
   "metadata": {},
   "source": [
    "<p align=\"center\">\n",
    "  <img width=\"500\" height=\"500\" src=\"img/census_income.png\">\n",
    "</p>"
   ]
  },
  {
   "cell_type": "markdown",
   "metadata": {},
   "source": [
    "<p style=\"text-align: center;\">\n",
    "    Source: \n",
    "    <a href=\"https://datos.madrid.es/portal/site/egob/menuitem.c05c1f754a33a9fbe4b2e4b284f1a5a0/?vgnextoid=d029ed1e80d38610VgnVCM2000001f4a900aRCRD&vgnextchannel=374512b9ace9f310VgnVCM100000171f5a0aRCRD&vgnextfmt=default\">https://datos.madrid.es/portal/site/egob</a>\n",
    "</p>"
   ]
  },
  {
   "cell_type": "markdown",
   "metadata": {},
   "source": [
    "## Methodology <a class=\"anchor\" id=\"methodology\"></a>"
   ]
  },
  {
   "cell_type": "markdown",
   "metadata": {},
   "source": [
    "The following sections describe the different stages of this project, starting with the acquisition of the data (venues and census), following with the clustering of the neighbourhoods and finishing with an analysis of the census for the corresponding group of neighbourhoods."
   ]
  },
  {
   "cell_type": "markdown",
   "metadata": {},
   "source": [
    "### Libraries import"
   ]
  },
  {
   "cell_type": "code",
   "execution_count": 207,
   "metadata": {},
   "outputs": [
    {
     "name": "stdout",
     "output_type": "stream",
     "text": [
      "Requirement already satisfied: geocoder in /Users/ejm/opt/anaconda3/lib/python3.8/site-packages (1.38.1)\n",
      "Requirement already satisfied: six in /Users/ejm/opt/anaconda3/lib/python3.8/site-packages (from geocoder) (1.15.0)\n",
      "Requirement already satisfied: future in /Users/ejm/opt/anaconda3/lib/python3.8/site-packages (from geocoder) (0.18.2)\n",
      "Requirement already satisfied: click in /Users/ejm/opt/anaconda3/lib/python3.8/site-packages (from geocoder) (7.1.2)\n",
      "Requirement already satisfied: requests in /Users/ejm/opt/anaconda3/lib/python3.8/site-packages (from geocoder) (2.24.0)\n",
      "Requirement already satisfied: ratelim in /Users/ejm/opt/anaconda3/lib/python3.8/site-packages (from geocoder) (0.1.6)\n",
      "Requirement already satisfied: chardet<4,>=3.0.2 in /Users/ejm/opt/anaconda3/lib/python3.8/site-packages (from requests->geocoder) (3.0.4)\n",
      "Requirement already satisfied: urllib3!=1.25.0,!=1.25.1,<1.26,>=1.21.1 in /Users/ejm/opt/anaconda3/lib/python3.8/site-packages (from requests->geocoder) (1.25.9)\n",
      "Requirement already satisfied: idna<3,>=2.5 in /Users/ejm/opt/anaconda3/lib/python3.8/site-packages (from requests->geocoder) (2.10)\n",
      "Requirement already satisfied: certifi>=2017.4.17 in /Users/ejm/opt/anaconda3/lib/python3.8/site-packages (from requests->geocoder) (2020.6.20)\n",
      "Requirement already satisfied: decorator in /Users/ejm/opt/anaconda3/lib/python3.8/site-packages (from ratelim->geocoder) (4.4.2)\n"
     ]
    }
   ],
   "source": [
    "# for HTTP requests\n",
    "import requests  \n",
    "\n",
    "# for HTML scrapping \n",
    "from bs4 import BeautifulSoup \n",
    "\n",
    "# for table analysis\n",
    "import pandas as pd\n",
    "import numpy as np\n",
    "\n",
    "# for finding geographical coordinates\n",
    "!pip install geocoder\n",
    "import geocoder\n",
    "\n",
    "# for converting an address into latitude and longitude values\n",
    "from geopy.geocoders import Nominatim\n",
    "\n",
    "# for rending maps\n",
    "import folium\n",
    "\n",
    "# for removing Spanish accents from map labels in Folium (encoding incompatibility)\n",
    "import unicodedata"
   ]
  },
  {
   "cell_type": "markdown",
   "metadata": {},
   "source": [
    "### Data acquisition <a class=\"anchor\" id=\"data-acquisition\"></a>"
   ]
  },
  {
   "cell_type": "markdown",
   "metadata": {},
   "source": [
    "The following sub-sections describe the methodology to obtain the different datasets, either by loading an external file or by scrapping a website."
   ]
  },
  {
   "cell_type": "markdown",
   "metadata": {},
   "source": [
    "#### Scrapping Wikipedia <a class=\"anchor\" id=\"scrapping-wikipedia\"></a>"
   ]
  },
  {
   "cell_type": "markdown",
   "metadata": {},
   "source": [
    "__URL for Wikipedia article__"
   ]
  },
  {
   "cell_type": "code",
   "execution_count": 208,
   "metadata": {},
   "outputs": [],
   "source": [
    "# URL of wikipedia page from which to scrap tabular data.\n",
    "wiki_url = \"https://en.wikipedia.org/wiki/List_of_neighborhoods_of_Madrid\""
   ]
  },
  {
   "cell_type": "markdown",
   "metadata": {},
   "source": [
    "__Request & Response__"
   ]
  },
  {
   "cell_type": "code",
   "execution_count": 209,
   "metadata": {},
   "outputs": [
    {
     "data": {
      "text/plain": [
       "<Response [200]>"
      ]
     },
     "execution_count": 209,
     "metadata": {},
     "output_type": "execute_result"
    }
   ],
   "source": [
    "# If the request was successful, reponse should be '200'.\n",
    "response = requests.get(wiki_url) #.json()\n",
    "response"
   ]
  },
  {
   "cell_type": "markdown",
   "metadata": {},
   "source": [
    "__Wrangling HTML With BeautifulSoup__"
   ]
  },
  {
   "cell_type": "code",
   "execution_count": 210,
   "metadata": {},
   "outputs": [],
   "source": [
    "# Parse response content to html\n",
    "soup = BeautifulSoup(response.content, 'html.parser')\n",
    "#soup"
   ]
  },
  {
   "cell_type": "markdown",
   "metadata": {},
   "source": [
    "__Viewing HTML content__"
   ]
  },
  {
   "cell_type": "code",
   "execution_count": 211,
   "metadata": {},
   "outputs": [
    {
     "name": "stdout",
     "output_type": "stream",
     "text": [
      "Page title: List of neighborhoods of Madrid - Wikipedia\n",
      "Column names: ['District name (number)', 'District location', 'Number', 'Name', 'Image']\n"
     ]
    }
   ],
   "source": [
    "# Title of Wikipedia page\n",
    "title = soup.title.string\n",
    "print(f'Page title: {title}') \n",
    "\n",
    "# Find the right table to scrap\n",
    "wiki_table=soup.find('table', {\"class\":'wikitable sortable'})\n",
    "\n",
    "# Get the 1st row of the table i.e. the header\n",
    "row0 = wiki_table.findAll(\"tr\")[0]\n",
    "\n",
    "# Show the column names (we're only interested in \"Name\" i.e. the 4th column)\n",
    "header = [th.text.rstrip() for th in row0.find_all('th')]\n",
    "print(f'Column names: {header}') "
   ]
  },
  {
   "cell_type": "markdown",
   "metadata": {},
   "source": [
    "__Scraping the table contents__"
   ]
  },
  {
   "cell_type": "code",
   "execution_count": 258,
   "metadata": {},
   "outputs": [
    {
     "name": "stdout",
     "output_type": "stream",
     "text": [
      "Number of neighbourhoods: 131\n"
     ]
    },
    {
     "data": {
      "text/plain": [
       "['Palacio',\n",
       " 'Embajadores',\n",
       " 'Cortes',\n",
       " 'Justicia',\n",
       " 'Universidad',\n",
       " 'Sol',\n",
       " 'Imperial',\n",
       " 'Acacias',\n",
       " 'Chopera',\n",
       " 'Legazpi',\n",
       " 'Delicias',\n",
       " 'Palos de Moguer',\n",
       " 'Atocha',\n",
       " 'Pacífico',\n",
       " 'Adelfas',\n",
       " 'Estrella',\n",
       " 'Ibiza',\n",
       " 'Jerónimos',\n",
       " 'Niño Jesús',\n",
       " 'Recoletos',\n",
       " 'Goya',\n",
       " 'Fuente del Berro',\n",
       " 'La Guindalera',\n",
       " 'Lista',\n",
       " 'Castellana',\n",
       " 'El Viso',\n",
       " 'Prosperidad',\n",
       " 'Ciudad Jardín',\n",
       " 'Hispanoamérica',\n",
       " 'Nueva España',\n",
       " 'Castilla',\n",
       " 'Bellas Vistas',\n",
       " 'Cuatro Caminos',\n",
       " 'Castillejos',\n",
       " 'Almenara',\n",
       " 'Valdeacederas',\n",
       " 'Berruguete',\n",
       " 'Gaztambide',\n",
       " 'Arapiles',\n",
       " 'Trafalgar',\n",
       " 'Almagro',\n",
       " 'Ríos Rosas',\n",
       " 'Vallehermoso',\n",
       " 'El Pardo',\n",
       " 'Fuentelarreina',\n",
       " 'Peñagrande',\n",
       " 'Pilar',\n",
       " 'La Paz',\n",
       " 'Valverde',\n",
       " 'Mirasierra',\n",
       " 'El Goloso',\n",
       " 'Casa de Campo',\n",
       " 'Argüelles',\n",
       " 'Ciudad Universitaria',\n",
       " 'Valdezarza',\n",
       " 'Valdemarín',\n",
       " 'El Plantío',\n",
       " 'Aravaca',\n",
       " 'Los Cármenes',\n",
       " 'Puerta del Ángel',\n",
       " 'Lucero',\n",
       " 'Aluche',\n",
       " 'Campamento',\n",
       " 'Cuatro Vientos',\n",
       " 'Las Águilas',\n",
       " 'Comillas',\n",
       " 'Opañel',\n",
       " 'San Isidro',\n",
       " 'Vista Alegre',\n",
       " 'Puerta Bonita',\n",
       " 'Buenavista',\n",
       " 'Abrantes',\n",
       " 'Orcasitas',\n",
       " 'Orcasur',\n",
       " 'San Fermín',\n",
       " 'Almendrales',\n",
       " 'Moscardó',\n",
       " 'Zofío',\n",
       " 'Pradolongo',\n",
       " 'Entrevías',\n",
       " 'San Diego',\n",
       " 'Palomeras Bajas',\n",
       " 'Palomeras Sureste',\n",
       " 'Portazgo',\n",
       " 'Numancia',\n",
       " 'Pavones',\n",
       " 'Horcajo',\n",
       " 'Marroquina',\n",
       " 'Media Legua',\n",
       " 'Fontarrón',\n",
       " 'Vinateros',\n",
       " 'Ventas',\n",
       " 'Pueblo Nuevo',\n",
       " 'Quintana',\n",
       " 'Concepción',\n",
       " 'San Pascual',\n",
       " 'San Juan Bautista',\n",
       " 'Colina',\n",
       " 'Atalaya',\n",
       " 'Costillares',\n",
       " 'Palomas',\n",
       " 'Piovera',\n",
       " 'Canillas',\n",
       " 'Pinar del Rey',\n",
       " 'Apóstol Santiago',\n",
       " 'Valdefuentes',\n",
       " 'Villaverde Alto',\n",
       " 'San Cristóbal',\n",
       " 'Butarque',\n",
       " 'Los Rosales',\n",
       " 'Los Ángeles',\n",
       " 'Casco Histórico de Vallecas',\n",
       " 'Santa Eugenia',\n",
       " 'Ensanche de Vallecas',\n",
       " 'Casco Histórico de Vicálvaro',\n",
       " 'Valdebernardo',\n",
       " 'Valderrivas',\n",
       " 'El Cañaveral',\n",
       " 'Simancas',\n",
       " 'Hellín',\n",
       " 'Amposta',\n",
       " 'Arcos',\n",
       " 'Rosas',\n",
       " 'Rejas',\n",
       " 'Canillejas',\n",
       " 'Salvador',\n",
       " 'Alameda de Osuna',\n",
       " 'Aeropuerto',\n",
       " 'Casco Histórico de Barajas',\n",
       " 'Timón',\n",
       " 'Corralejos']"
      ]
     },
     "execution_count": 258,
     "metadata": {},
     "output_type": "execute_result"
    }
   ],
   "source": [
    "# Placeholder for list of neighbourhoods\n",
    "madrid_neighbourhoods = []\n",
    "\n",
    "# Iterate through the rows of the table\n",
    "# Note: each district has sub-rows of neighbourhoods\n",
    "for row in wiki_table.findAll(\"tr\"):    \n",
    "    cells = row.findAll('td')\n",
    "\n",
    "    # Parse 1st neighbourhood of the district\n",
    "    if len(cells)==5:\n",
    "        madrid_neighbourhoods.append(cells[3].find(text=True).replace('\\n', '').rstrip().lstrip())\n",
    "    \n",
    "    # Parse sub-rows (rest of neighbourhoods of the district)\n",
    "    elif len(cells)==3:\n",
    "        madrid_neighbourhoods.append(cells[1].find(text=True).replace('\\n', '').rstrip().lstrip())\n",
    "    \n",
    "print(f'Number of neighbourhoods: {len(madrid_neighbourhoods)}')\n",
    "madrid_neighbourhoods"
   ]
  },
  {
   "cell_type": "markdown",
   "metadata": {},
   "source": [
    "__Creating a dataframe__"
   ]
  },
  {
   "cell_type": "code",
   "execution_count": 259,
   "metadata": {},
   "outputs": [
    {
     "name": "stdout",
     "output_type": "stream",
     "text": [
      "Shape: (131, 1)\n"
     ]
    },
    {
     "data": {
      "text/html": [
       "<div>\n",
       "<style scoped>\n",
       "    .dataframe tbody tr th:only-of-type {\n",
       "        vertical-align: middle;\n",
       "    }\n",
       "\n",
       "    .dataframe tbody tr th {\n",
       "        vertical-align: top;\n",
       "    }\n",
       "\n",
       "    .dataframe thead th {\n",
       "        text-align: right;\n",
       "    }\n",
       "</style>\n",
       "<table border=\"1\" class=\"dataframe\">\n",
       "  <thead>\n",
       "    <tr style=\"text-align: right;\">\n",
       "      <th></th>\n",
       "      <th>Neighbourhood</th>\n",
       "    </tr>\n",
       "  </thead>\n",
       "  <tbody>\n",
       "    <tr>\n",
       "      <th>0</th>\n",
       "      <td>Palacio</td>\n",
       "    </tr>\n",
       "    <tr>\n",
       "      <th>1</th>\n",
       "      <td>Embajadores</td>\n",
       "    </tr>\n",
       "    <tr>\n",
       "      <th>2</th>\n",
       "      <td>Cortes</td>\n",
       "    </tr>\n",
       "    <tr>\n",
       "      <th>3</th>\n",
       "      <td>Justicia</td>\n",
       "    </tr>\n",
       "    <tr>\n",
       "      <th>4</th>\n",
       "      <td>Universidad</td>\n",
       "    </tr>\n",
       "  </tbody>\n",
       "</table>\n",
       "</div>"
      ],
      "text/plain": [
       "  Neighbourhood\n",
       "0       Palacio\n",
       "1   Embajadores\n",
       "2        Cortes\n",
       "3      Justicia\n",
       "4   Universidad"
      ]
     },
     "execution_count": 259,
     "metadata": {},
     "output_type": "execute_result"
    }
   ],
   "source": [
    "df_madrid = pd.DataFrame(madrid_neighbourhoods, columns=['Neighbourhood'])\n",
    "print(f'Shape: {df_madrid.shape}')\n",
    "df_madrid.head()"
   ]
  },
  {
   "cell_type": "code",
   "execution_count": 260,
   "metadata": {},
   "outputs": [],
   "source": [
    "##################################################################################################################################\n",
    "# DUMMY\n",
    "radius = 2000\n",
    "df_madrid = df_madrid.sample(frac=0.1)\n",
    "##################################################################################################################################"
   ]
  },
  {
   "cell_type": "markdown",
   "metadata": {},
   "source": [
    "__Getting geographical coordinates for the neighbourhoods__"
   ]
  },
  {
   "cell_type": "code",
   "execution_count": 261,
   "metadata": {},
   "outputs": [],
   "source": [
    "# Function that retrieves the geographical coordinates for a given neighborhood\n",
    "def get_coordinates(row):\n",
    "    # initialize variable to None\n",
    "    lat_lng_coords = None\n",
    "\n",
    "    # loop until we get the coordinates\n",
    "    while(lat_lng_coords is None):\n",
    "      g = geocoder.arcgis(f'{row[\"Neighbourhood\"]}, Madrid')\n",
    "      lat_lng_coords = g.latlng\n",
    "    \n",
    "    # return pair lat,long\n",
    "    return pd.Series([lat_lng_coords[0], lat_lng_coords[1]])"
   ]
  },
  {
   "cell_type": "code",
   "execution_count": 262,
   "metadata": {},
   "outputs": [
    {
     "data": {
      "text/html": [
       "<div>\n",
       "<style scoped>\n",
       "    .dataframe tbody tr th:only-of-type {\n",
       "        vertical-align: middle;\n",
       "    }\n",
       "\n",
       "    .dataframe tbody tr th {\n",
       "        vertical-align: top;\n",
       "    }\n",
       "\n",
       "    .dataframe thead th {\n",
       "        text-align: right;\n",
       "    }\n",
       "</style>\n",
       "<table border=\"1\" class=\"dataframe\">\n",
       "  <thead>\n",
       "    <tr style=\"text-align: right;\">\n",
       "      <th></th>\n",
       "      <th>Neighbourhood</th>\n",
       "      <th>Latitude</th>\n",
       "      <th>Longitude</th>\n",
       "    </tr>\n",
       "  </thead>\n",
       "  <tbody>\n",
       "    <tr>\n",
       "      <th>67</th>\n",
       "      <td>San Isidro</td>\n",
       "      <td>40.39588</td>\n",
       "      <td>-3.73048</td>\n",
       "    </tr>\n",
       "    <tr>\n",
       "      <th>68</th>\n",
       "      <td>Vista Alegre</td>\n",
       "      <td>40.38492</td>\n",
       "      <td>-3.74635</td>\n",
       "    </tr>\n",
       "    <tr>\n",
       "      <th>122</th>\n",
       "      <td>Rosas</td>\n",
       "      <td>40.42869</td>\n",
       "      <td>-3.60086</td>\n",
       "    </tr>\n",
       "    <tr>\n",
       "      <th>38</th>\n",
       "      <td>Arapiles</td>\n",
       "      <td>40.43286</td>\n",
       "      <td>-3.70840</td>\n",
       "    </tr>\n",
       "    <tr>\n",
       "      <th>40</th>\n",
       "      <td>Almagro</td>\n",
       "      <td>40.43296</td>\n",
       "      <td>-3.69153</td>\n",
       "    </tr>\n",
       "  </tbody>\n",
       "</table>\n",
       "</div>"
      ],
      "text/plain": [
       "    Neighbourhood  Latitude  Longitude\n",
       "67     San Isidro  40.39588   -3.73048\n",
       "68   Vista Alegre  40.38492   -3.74635\n",
       "122         Rosas  40.42869   -3.60086\n",
       "38       Arapiles  40.43286   -3.70840\n",
       "40        Almagro  40.43296   -3.69153"
      ]
     },
     "execution_count": 262,
     "metadata": {},
     "output_type": "execute_result"
    }
   ],
   "source": [
    "# Fill coordinates for each row\n",
    "df_madrid[['Latitude','Longitude']] = df_madrid.apply(get_coordinates, axis=1)\n",
    "df_madrid.head()"
   ]
  },
  {
   "cell_type": "code",
   "execution_count": 263,
   "metadata": {},
   "outputs": [
    {
     "data": {
      "text/plain": [
       "Neighbourhood    0\n",
       "Latitude         0\n",
       "Longitude        0\n",
       "dtype: int64"
      ]
     },
     "execution_count": 263,
     "metadata": {},
     "output_type": "execute_result"
    }
   ],
   "source": [
    "# Make sure we found the coordinates for all the neighbourhoods\n",
    "df_madrid.isnull().sum()"
   ]
  },
  {
   "cell_type": "markdown",
   "metadata": {},
   "source": [
    "__Visualizing the neighbourhoods of Madrid__"
   ]
  },
  {
   "cell_type": "code",
   "execution_count": 264,
   "metadata": {},
   "outputs": [
    {
     "name": "stdout",
     "output_type": "stream",
     "text": [
      "The geograpical coordinates of Madrid are 40.4167047, -3.7035825\n"
     ]
    }
   ],
   "source": [
    "address = 'Madrid, Spain'\n",
    "geolocator = Nominatim(user_agent=\"madrid_explorer\")\n",
    "location = geolocator.geocode(address)\n",
    "latitude = location.latitude\n",
    "longitude = location.longitude\n",
    "print(f'The geograpical coordinates of Madrid are {latitude}, {longitude}')"
   ]
  },
  {
   "cell_type": "code",
   "execution_count": 265,
   "metadata": {},
   "outputs": [],
   "source": [
    "# Spanish accents are not correctly rendered in the map labels so we decided\n",
    "# to remove them for a better understanding of the map\n",
    "def remove_accents(input_str):\n",
    "    nfkd_form = unicodedata.normalize('NFKD', input_str)\n",
    "    only_ascii = nfkd_form.encode('ASCII', 'ignore')\n",
    "    return only_ascii.decode(\"utf-8\")"
   ]
  },
  {
   "cell_type": "code",
   "execution_count": 266,
   "metadata": {},
   "outputs": [
    {
     "data": {
      "text/html": [
       "<div style=\"width:100%;\"><div style=\"position:relative;width:100%;height:0;padding-bottom:60%;\"><span style=\"color:#565656\">Make this Notebook Trusted to load map: File -> Trust Notebook</span><iframe src=\"about:blank\" style=\"position:absolute;width:100%;height:100%;left:0;top:0;border:none !important;\" data-html=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 onload=\"this.contentDocument.open();this.contentDocument.write(atob(this.getAttribute('data-html')));this.contentDocument.close();\" allowfullscreen webkitallowfullscreen mozallowfullscreen></iframe></div></div>"
      ],
      "text/plain": [
       "<folium.folium.Map at 0x124ac5fa0>"
      ]
     },
     "execution_count": 266,
     "metadata": {},
     "output_type": "execute_result"
    }
   ],
   "source": [
    "# create map of Madrid using latitude and longitude values\n",
    "map_madrid = folium.Map(location=[latitude, longitude], zoom_start=11)\n",
    "\n",
    "# add markers to map\n",
    "for lat, lng, label in zip(df_madrid['Latitude'], df_madrid['Longitude'], df_madrid['Neighbourhood']):\n",
    "    label = folium.Popup(remove_accents(label), parse_html=True)\n",
    "    folium.CircleMarker(\n",
    "        [lat, lng],\n",
    "        radius=5,\n",
    "        popup=label,\n",
    "        color='blue',\n",
    "        fill=True,\n",
    "        fill_color='#3186cc',\n",
    "        fill_opacity=0.7,\n",
    "        parse_html=False).add_to(map_madrid)  \n",
    "    \n",
    "map_madrid"
   ]
  },
  {
   "cell_type": "markdown",
   "metadata": {},
   "source": [
    "#### Requesting Foursquare API for geospatial data <a class=\"anchor\" id=\"requesting-foursquare\"></a>"
   ]
  },
  {
   "cell_type": "code",
   "execution_count": 267,
   "metadata": {},
   "outputs": [
    {
     "name": "stdout",
     "output_type": "stream",
     "text": [
      "Credentails:\n",
      "CLIENT_ID: BHJXSXUIL3QMVG5D40DTXTROBNKAMXXYNZSISUHVXAL3HXZO\n",
      "CLIENT_SECRET:FRLBLH40G0T4OWROEXCQU3MY35OZAIE3HXJ5J1X02RXNMTWP\n",
      "ACCESS_TOKEN:N1LDGNZGUPHICQM1Y5LRR5RMQGULD1MLDZQIISPLTI0CL4I0\n"
     ]
    }
   ],
   "source": [
    "CLIENT_ID = 'BHJXSXUIL3QMVG5D40DTXTROBNKAMXXYNZSISUHVXAL3HXZO' # Foursquare ID\n",
    "CLIENT_SECRET = 'FRLBLH40G0T4OWROEXCQU3MY35OZAIE3HXJ5J1X02RXNMTWP' # Foursquare Secret\n",
    "ACCESS_TOKEN = 'N1LDGNZGUPHICQM1Y5LRR5RMQGULD1MLDZQIISPLTI0CL4I0' # FourSquare Access Token\n",
    "VERSION = '20180605' # Foursquare API version\n",
    "LIMIT = 100 # A default Foursquare API limit value\n",
    "\n",
    "print('Credentails:')\n",
    "print('CLIENT_ID: ' + CLIENT_ID)\n",
    "print('CLIENT_SECRET:' + CLIENT_SECRET)\n",
    "print('ACCESS_TOKEN:' + ACCESS_TOKEN)"
   ]
  },
  {
   "cell_type": "code",
   "execution_count": 268,
   "metadata": {},
   "outputs": [],
   "source": [
    "# Foursquare category IDs defined here: https://developer.foursquare.com/docs/build-with-foursquare/categories/\n",
    "food_restaurants = '4d4b7105d754a06374d81259'\n",
    "food_drink_stores = '4bf58dd8d48988d1f9941735'\n",
    "food_categories = food_restaurants + ',' + food_drink_stores"
   ]
  },
  {
   "cell_type": "code",
   "execution_count": 269,
   "metadata": {},
   "outputs": [],
   "source": [
    "##########################################################################################\n",
    "# To Do:\n",
    "# merge all types of restaurante-categories into 1 category named 'Restaurant',\n",
    "# since for our analysis we are not interesting in the types of restaurant.\n",
    "# Hint: if v['venue']['categories'][0]['name'].contains('Restaurant') then 'Restaurant'"
   ]
  },
  {
   "cell_type": "code",
   "execution_count": 322,
   "metadata": {},
   "outputs": [],
   "source": [
    "# Function to merge all the restaurant-like categories into one category named 'Restaurant',\n",
    "# and all the market-like shops into another category,\n",
    "# since for our analysis we are not interested in the type of restaurant or market.\n",
    "market_categories = ['Supermarket', 'Market', 'Farmers Market', 'Grocery Store', 'Big Box Store', 'Convenience Store', 'Food & Drink Shop']\n",
    "def parseCategory(category):\n",
    "    if 'Restaurant' in category or 'Burger' in category or 'BBQ' in category or 'Sandwich' in category or 'Pizza' in category:\n",
    "        category = 'Restaurant'\n",
    "    elif 'Bar' in category or 'Pub' in category or 'pub' in category or 'Joint' in category:\n",
    "        category = 'Bar'\n",
    "    elif 'Coffee' in category or 'Café' in category or 'Diner' in category:\n",
    "        category = 'Coffee Shop'\n",
    "    elif category in market_categories:\n",
    "        category = 'Market'\n",
    "    return category\n",
    "\n",
    "# Function to find food-related venues in a given neighbourhood\n",
    "def getNearbyVenues(names, latitudes, longitudes, radius=500):\n",
    "    \n",
    "    venues_list=[]\n",
    "    for name, lat, lng in zip(names, latitudes, longitudes):\n",
    "        #print(name)\n",
    "            \n",
    "        # create the API request URL\n",
    "        url = 'https://api.foursquare.com/v2/venues/search?&client_id={}&client_secret={}&v={}&ll={},{}&categoryId={}&radius={}&limit={}'.format(\n",
    "#        url = 'https://api.foursquare.com/v2/venues/explore?&client_id={}&client_secret={}&v={}&ll={},{}&categoryId={}&radius={}&limit={}'.format(\n",
    "            CLIENT_ID, \n",
    "            CLIENT_SECRET, \n",
    "            VERSION, \n",
    "            lat, \n",
    "            lng,\n",
    "            food_categories, #'food', ################# ,\n",
    "            radius, \n",
    "            LIMIT)\n",
    "            \n",
    "        # make the GET request\n",
    "#        results = requests.get(url).json()[\"response\"]['groups'][0]['items']\n",
    "        results = requests.get(url).json()[\"response\"]['venues']\n",
    "\n",
    "        # return only relevant information for each nearby venue\n",
    "        venues_list.append([(\n",
    "            name, \n",
    "            lat, \n",
    "            lng, \n",
    "            v['name'], \n",
    "            v['location']['lat'], \n",
    "            v['location']['lng'],  \n",
    "            parseCategory(v['categories'][0]['name'])) for v in results])\n",
    "\n",
    "    nearby_venues = pd.DataFrame([item for venue_list in venues_list for item in venue_list])\n",
    "    nearby_venues.columns = ['Neighbourhood', \n",
    "                  'Neighbourhood Latitude', \n",
    "                  'Neighbourhood Longitude', \n",
    "                  'Venue', \n",
    "                  'Venue Latitude', \n",
    "                  'Venue Longitude', \n",
    "                  'Venue Category']\n",
    "    \n",
    "    return(nearby_venues)"
   ]
  },
  {
   "cell_type": "markdown",
   "metadata": {},
   "source": [
    "__Run the above function to each neighbourhood__"
   ]
  },
  {
   "cell_type": "code",
   "execution_count": 323,
   "metadata": {},
   "outputs": [
    {
     "name": "stdout",
     "output_type": "stream",
     "text": [
      "(649, 7)\n"
     ]
    },
    {
     "data": {
      "text/html": [
       "<div>\n",
       "<style scoped>\n",
       "    .dataframe tbody tr th:only-of-type {\n",
       "        vertical-align: middle;\n",
       "    }\n",
       "\n",
       "    .dataframe tbody tr th {\n",
       "        vertical-align: top;\n",
       "    }\n",
       "\n",
       "    .dataframe thead th {\n",
       "        text-align: right;\n",
       "    }\n",
       "</style>\n",
       "<table border=\"1\" class=\"dataframe\">\n",
       "  <thead>\n",
       "    <tr style=\"text-align: right;\">\n",
       "      <th></th>\n",
       "      <th>Neighbourhood</th>\n",
       "      <th>Neighbourhood Latitude</th>\n",
       "      <th>Neighbourhood Longitude</th>\n",
       "      <th>Venue</th>\n",
       "      <th>Venue Latitude</th>\n",
       "      <th>Venue Longitude</th>\n",
       "      <th>Venue Category</th>\n",
       "    </tr>\n",
       "  </thead>\n",
       "  <tbody>\n",
       "    <tr>\n",
       "      <th>0</th>\n",
       "      <td>San Isidro</td>\n",
       "      <td>40.39588</td>\n",
       "      <td>-3.73048</td>\n",
       "      <td>Mercadona</td>\n",
       "      <td>40.389170</td>\n",
       "      <td>-3.735899</td>\n",
       "      <td>Market</td>\n",
       "    </tr>\n",
       "    <tr>\n",
       "      <th>1</th>\n",
       "      <td>San Isidro</td>\n",
       "      <td>40.39588</td>\n",
       "      <td>-3.73048</td>\n",
       "      <td>La Cabra en el Tejado</td>\n",
       "      <td>40.409343</td>\n",
       "      <td>-3.709742</td>\n",
       "      <td>Bar</td>\n",
       "    </tr>\n",
       "    <tr>\n",
       "      <th>2</th>\n",
       "      <td>San Isidro</td>\n",
       "      <td>40.39588</td>\n",
       "      <td>-3.73048</td>\n",
       "      <td>El Imparcial</td>\n",
       "      <td>40.411929</td>\n",
       "      <td>-3.705782</td>\n",
       "      <td>Bistro</td>\n",
       "    </tr>\n",
       "    <tr>\n",
       "      <th>3</th>\n",
       "      <td>San Isidro</td>\n",
       "      <td>40.39588</td>\n",
       "      <td>-3.73048</td>\n",
       "      <td>MartinaCocina</td>\n",
       "      <td>40.410001</td>\n",
       "      <td>-3.707294</td>\n",
       "      <td>Coffee Shop</td>\n",
       "    </tr>\n",
       "    <tr>\n",
       "      <th>4</th>\n",
       "      <td>San Isidro</td>\n",
       "      <td>40.39588</td>\n",
       "      <td>-3.73048</td>\n",
       "      <td>Taberna El Buo</td>\n",
       "      <td>40.411333</td>\n",
       "      <td>-3.710443</td>\n",
       "      <td>Restaurant</td>\n",
       "    </tr>\n",
       "  </tbody>\n",
       "</table>\n",
       "</div>"
      ],
      "text/plain": [
       "  Neighbourhood  Neighbourhood Latitude  Neighbourhood Longitude  \\\n",
       "0    San Isidro                40.39588                 -3.73048   \n",
       "1    San Isidro                40.39588                 -3.73048   \n",
       "2    San Isidro                40.39588                 -3.73048   \n",
       "3    San Isidro                40.39588                 -3.73048   \n",
       "4    San Isidro                40.39588                 -3.73048   \n",
       "\n",
       "                   Venue  Venue Latitude  Venue Longitude Venue Category  \n",
       "0              Mercadona       40.389170        -3.735899         Market  \n",
       "1  La Cabra en el Tejado       40.409343        -3.709742            Bar  \n",
       "2           El Imparcial       40.411929        -3.705782         Bistro  \n",
       "3          MartinaCocina       40.410001        -3.707294    Coffee Shop  \n",
       "4         Taberna El Buo       40.411333        -3.710443     Restaurant  "
      ]
     },
     "execution_count": 323,
     "metadata": {},
     "output_type": "execute_result"
    }
   ],
   "source": [
    "madrid_venues = getNearbyVenues(names=df_madrid['Neighbourhood'],\n",
    "                                   latitudes=df_madrid['Latitude'],\n",
    "                                   longitudes=df_madrid['Longitude'],\n",
    "                                   radius=radius)\n",
    "\n",
    "print(madrid_venues.shape)\n",
    "madrid_venues.head()"
   ]
  },
  {
   "cell_type": "code",
   "execution_count": 324,
   "metadata": {},
   "outputs": [
    {
     "data": {
      "text/html": [
       "<div>\n",
       "<style scoped>\n",
       "    .dataframe tbody tr th:only-of-type {\n",
       "        vertical-align: middle;\n",
       "    }\n",
       "\n",
       "    .dataframe tbody tr th {\n",
       "        vertical-align: top;\n",
       "    }\n",
       "\n",
       "    .dataframe thead th {\n",
       "        text-align: right;\n",
       "    }\n",
       "</style>\n",
       "<table border=\"1\" class=\"dataframe\">\n",
       "  <thead>\n",
       "    <tr style=\"text-align: right;\">\n",
       "      <th></th>\n",
       "      <th>Neighbourhood</th>\n",
       "      <th>Neighbourhood Latitude</th>\n",
       "      <th>Neighbourhood Longitude</th>\n",
       "      <th>Venue</th>\n",
       "      <th>Venue Latitude</th>\n",
       "      <th>Venue Longitude</th>\n",
       "      <th>Venue Category</th>\n",
       "    </tr>\n",
       "  </thead>\n",
       "  <tbody>\n",
       "  </tbody>\n",
       "</table>\n",
       "</div>"
      ],
      "text/plain": [
       "Empty DataFrame\n",
       "Columns: [Neighbourhood, Neighbourhood Latitude, Neighbourhood Longitude, Venue, Venue Latitude, Venue Longitude, Venue Category]\n",
       "Index: []"
      ]
     },
     "execution_count": 324,
     "metadata": {},
     "output_type": "execute_result"
    }
   ],
   "source": [
    "madrid_venues[madrid_venues['Venue Category'] == 'Food & Drink Shop']"
   ]
  },
  {
   "cell_type": "markdown",
   "metadata": {},
   "source": [
    "__Analysing each neighbourhood__"
   ]
  },
  {
   "cell_type": "code",
   "execution_count": 325,
   "metadata": {},
   "outputs": [
    {
     "name": "stdout",
     "output_type": "stream",
     "text": [
      "Size: (649, 23)\n"
     ]
    },
    {
     "data": {
      "text/html": [
       "<div>\n",
       "<style scoped>\n",
       "    .dataframe tbody tr th:only-of-type {\n",
       "        vertical-align: middle;\n",
       "    }\n",
       "\n",
       "    .dataframe tbody tr th {\n",
       "        vertical-align: top;\n",
       "    }\n",
       "\n",
       "    .dataframe thead th {\n",
       "        text-align: right;\n",
       "    }\n",
       "</style>\n",
       "<table border=\"1\" class=\"dataframe\">\n",
       "  <thead>\n",
       "    <tr style=\"text-align: right;\">\n",
       "      <th></th>\n",
       "      <th>Neighbourhood</th>\n",
       "      <th>Bakery</th>\n",
       "      <th>Bar</th>\n",
       "      <th>Beer Garden</th>\n",
       "      <th>Beer Store</th>\n",
       "      <th>Bistro</th>\n",
       "      <th>Breakfast Spot</th>\n",
       "      <th>Butcher</th>\n",
       "      <th>Chocolate Shop</th>\n",
       "      <th>Coffee Shop</th>\n",
       "      <th>...</th>\n",
       "      <th>Food</th>\n",
       "      <th>Gas Station</th>\n",
       "      <th>Gourmet Shop</th>\n",
       "      <th>Ice Cream Shop</th>\n",
       "      <th>Market</th>\n",
       "      <th>Pastry Shop</th>\n",
       "      <th>Restaurant</th>\n",
       "      <th>Snack Place</th>\n",
       "      <th>Steakhouse</th>\n",
       "      <th>Wine Shop</th>\n",
       "    </tr>\n",
       "  </thead>\n",
       "  <tbody>\n",
       "    <tr>\n",
       "      <th>0</th>\n",
       "      <td>San Isidro</td>\n",
       "      <td>0</td>\n",
       "      <td>0</td>\n",
       "      <td>0</td>\n",
       "      <td>0</td>\n",
       "      <td>0</td>\n",
       "      <td>0</td>\n",
       "      <td>0</td>\n",
       "      <td>0</td>\n",
       "      <td>0</td>\n",
       "      <td>...</td>\n",
       "      <td>0</td>\n",
       "      <td>0</td>\n",
       "      <td>0</td>\n",
       "      <td>0</td>\n",
       "      <td>1</td>\n",
       "      <td>0</td>\n",
       "      <td>0</td>\n",
       "      <td>0</td>\n",
       "      <td>0</td>\n",
       "      <td>0</td>\n",
       "    </tr>\n",
       "    <tr>\n",
       "      <th>1</th>\n",
       "      <td>San Isidro</td>\n",
       "      <td>0</td>\n",
       "      <td>1</td>\n",
       "      <td>0</td>\n",
       "      <td>0</td>\n",
       "      <td>0</td>\n",
       "      <td>0</td>\n",
       "      <td>0</td>\n",
       "      <td>0</td>\n",
       "      <td>0</td>\n",
       "      <td>...</td>\n",
       "      <td>0</td>\n",
       "      <td>0</td>\n",
       "      <td>0</td>\n",
       "      <td>0</td>\n",
       "      <td>0</td>\n",
       "      <td>0</td>\n",
       "      <td>0</td>\n",
       "      <td>0</td>\n",
       "      <td>0</td>\n",
       "      <td>0</td>\n",
       "    </tr>\n",
       "    <tr>\n",
       "      <th>2</th>\n",
       "      <td>San Isidro</td>\n",
       "      <td>0</td>\n",
       "      <td>0</td>\n",
       "      <td>0</td>\n",
       "      <td>0</td>\n",
       "      <td>1</td>\n",
       "      <td>0</td>\n",
       "      <td>0</td>\n",
       "      <td>0</td>\n",
       "      <td>0</td>\n",
       "      <td>...</td>\n",
       "      <td>0</td>\n",
       "      <td>0</td>\n",
       "      <td>0</td>\n",
       "      <td>0</td>\n",
       "      <td>0</td>\n",
       "      <td>0</td>\n",
       "      <td>0</td>\n",
       "      <td>0</td>\n",
       "      <td>0</td>\n",
       "      <td>0</td>\n",
       "    </tr>\n",
       "    <tr>\n",
       "      <th>3</th>\n",
       "      <td>San Isidro</td>\n",
       "      <td>0</td>\n",
       "      <td>0</td>\n",
       "      <td>0</td>\n",
       "      <td>0</td>\n",
       "      <td>0</td>\n",
       "      <td>0</td>\n",
       "      <td>0</td>\n",
       "      <td>0</td>\n",
       "      <td>1</td>\n",
       "      <td>...</td>\n",
       "      <td>0</td>\n",
       "      <td>0</td>\n",
       "      <td>0</td>\n",
       "      <td>0</td>\n",
       "      <td>0</td>\n",
       "      <td>0</td>\n",
       "      <td>0</td>\n",
       "      <td>0</td>\n",
       "      <td>0</td>\n",
       "      <td>0</td>\n",
       "    </tr>\n",
       "    <tr>\n",
       "      <th>4</th>\n",
       "      <td>San Isidro</td>\n",
       "      <td>0</td>\n",
       "      <td>0</td>\n",
       "      <td>0</td>\n",
       "      <td>0</td>\n",
       "      <td>0</td>\n",
       "      <td>0</td>\n",
       "      <td>0</td>\n",
       "      <td>0</td>\n",
       "      <td>0</td>\n",
       "      <td>...</td>\n",
       "      <td>0</td>\n",
       "      <td>0</td>\n",
       "      <td>0</td>\n",
       "      <td>0</td>\n",
       "      <td>0</td>\n",
       "      <td>0</td>\n",
       "      <td>1</td>\n",
       "      <td>0</td>\n",
       "      <td>0</td>\n",
       "      <td>0</td>\n",
       "    </tr>\n",
       "  </tbody>\n",
       "</table>\n",
       "<p>5 rows × 23 columns</p>\n",
       "</div>"
      ],
      "text/plain": [
       "  Neighbourhood  Bakery  Bar  Beer Garden  Beer Store  Bistro  Breakfast Spot  \\\n",
       "0    San Isidro       0    0            0           0       0               0   \n",
       "1    San Isidro       0    1            0           0       0               0   \n",
       "2    San Isidro       0    0            0           0       1               0   \n",
       "3    San Isidro       0    0            0           0       0               0   \n",
       "4    San Isidro       0    0            0           0       0               0   \n",
       "\n",
       "   Butcher  Chocolate Shop  Coffee Shop  ...  Food  Gas Station  Gourmet Shop  \\\n",
       "0        0               0            0  ...     0            0             0   \n",
       "1        0               0            0  ...     0            0             0   \n",
       "2        0               0            0  ...     0            0             0   \n",
       "3        0               0            1  ...     0            0             0   \n",
       "4        0               0            0  ...     0            0             0   \n",
       "\n",
       "   Ice Cream Shop  Market  Pastry Shop  Restaurant  Snack Place  Steakhouse  \\\n",
       "0               0       1            0           0            0           0   \n",
       "1               0       0            0           0            0           0   \n",
       "2               0       0            0           0            0           0   \n",
       "3               0       0            0           0            0           0   \n",
       "4               0       0            0           1            0           0   \n",
       "\n",
       "   Wine Shop  \n",
       "0          0  \n",
       "1          0  \n",
       "2          0  \n",
       "3          0  \n",
       "4          0  \n",
       "\n",
       "[5 rows x 23 columns]"
      ]
     },
     "execution_count": 325,
     "metadata": {},
     "output_type": "execute_result"
    }
   ],
   "source": [
    "# one hot encoding\n",
    "madrid_onehot = pd.get_dummies(madrid_venues[['Venue Category']], prefix=\"\", prefix_sep=\"\")\n",
    "\n",
    "# add neighbourhood column back to dataframe\n",
    "madrid_onehot['Neighbourhood'] = madrid_venues['Neighbourhood'] \n",
    "\n",
    "# move neighbourhood column to the first column\n",
    "fixed_columns = [madrid_onehot.columns[-1]] + list(madrid_onehot.columns[:-1])\n",
    "madrid_onehot = madrid_onehot[fixed_columns]\n",
    "\n",
    "print(f'Size: {madrid_onehot.shape}')\n",
    "madrid_onehot.head()"
   ]
  },
  {
   "cell_type": "markdown",
   "metadata": {},
   "source": [
    "__Grouping rows by neighbourhood and finding frequency of each category__"
   ]
  },
  {
   "cell_type": "code",
   "execution_count": 326,
   "metadata": {},
   "outputs": [
    {
     "name": "stdout",
     "output_type": "stream",
     "text": [
      "Size: (13, 23)\n"
     ]
    },
    {
     "data": {
      "text/html": [
       "<div>\n",
       "<style scoped>\n",
       "    .dataframe tbody tr th:only-of-type {\n",
       "        vertical-align: middle;\n",
       "    }\n",
       "\n",
       "    .dataframe tbody tr th {\n",
       "        vertical-align: top;\n",
       "    }\n",
       "\n",
       "    .dataframe thead th {\n",
       "        text-align: right;\n",
       "    }\n",
       "</style>\n",
       "<table border=\"1\" class=\"dataframe\">\n",
       "  <thead>\n",
       "    <tr style=\"text-align: right;\">\n",
       "      <th></th>\n",
       "      <th>Neighbourhood</th>\n",
       "      <th>Bakery</th>\n",
       "      <th>Bar</th>\n",
       "      <th>Beer Garden</th>\n",
       "      <th>Beer Store</th>\n",
       "      <th>Bistro</th>\n",
       "      <th>Breakfast Spot</th>\n",
       "      <th>Butcher</th>\n",
       "      <th>Chocolate Shop</th>\n",
       "      <th>Coffee Shop</th>\n",
       "      <th>...</th>\n",
       "      <th>Food</th>\n",
       "      <th>Gas Station</th>\n",
       "      <th>Gourmet Shop</th>\n",
       "      <th>Ice Cream Shop</th>\n",
       "      <th>Market</th>\n",
       "      <th>Pastry Shop</th>\n",
       "      <th>Restaurant</th>\n",
       "      <th>Snack Place</th>\n",
       "      <th>Steakhouse</th>\n",
       "      <th>Wine Shop</th>\n",
       "    </tr>\n",
       "  </thead>\n",
       "  <tbody>\n",
       "    <tr>\n",
       "      <th>0</th>\n",
       "      <td>Alameda de Osuna</td>\n",
       "      <td>0.060000</td>\n",
       "      <td>0.060000</td>\n",
       "      <td>0.00</td>\n",
       "      <td>0.00</td>\n",
       "      <td>0.00</td>\n",
       "      <td>0.000000</td>\n",
       "      <td>0.02</td>\n",
       "      <td>0.00</td>\n",
       "      <td>0.140000</td>\n",
       "      <td>...</td>\n",
       "      <td>0.020000</td>\n",
       "      <td>0.00</td>\n",
       "      <td>0.00</td>\n",
       "      <td>0.00</td>\n",
       "      <td>0.060000</td>\n",
       "      <td>0.00</td>\n",
       "      <td>0.620000</td>\n",
       "      <td>0.00</td>\n",
       "      <td>0.020000</td>\n",
       "      <td>0.00</td>\n",
       "    </tr>\n",
       "    <tr>\n",
       "      <th>1</th>\n",
       "      <td>Almagro</td>\n",
       "      <td>0.000000</td>\n",
       "      <td>0.080000</td>\n",
       "      <td>0.00</td>\n",
       "      <td>0.00</td>\n",
       "      <td>0.00</td>\n",
       "      <td>0.000000</td>\n",
       "      <td>0.00</td>\n",
       "      <td>0.02</td>\n",
       "      <td>0.240000</td>\n",
       "      <td>...</td>\n",
       "      <td>0.000000</td>\n",
       "      <td>0.00</td>\n",
       "      <td>0.04</td>\n",
       "      <td>0.00</td>\n",
       "      <td>0.260000</td>\n",
       "      <td>0.02</td>\n",
       "      <td>0.340000</td>\n",
       "      <td>0.00</td>\n",
       "      <td>0.000000</td>\n",
       "      <td>0.00</td>\n",
       "    </tr>\n",
       "    <tr>\n",
       "      <th>2</th>\n",
       "      <td>Arapiles</td>\n",
       "      <td>0.000000</td>\n",
       "      <td>0.040000</td>\n",
       "      <td>0.00</td>\n",
       "      <td>0.00</td>\n",
       "      <td>0.00</td>\n",
       "      <td>0.000000</td>\n",
       "      <td>0.00</td>\n",
       "      <td>0.02</td>\n",
       "      <td>0.240000</td>\n",
       "      <td>...</td>\n",
       "      <td>0.000000</td>\n",
       "      <td>0.00</td>\n",
       "      <td>0.04</td>\n",
       "      <td>0.00</td>\n",
       "      <td>0.200000</td>\n",
       "      <td>0.02</td>\n",
       "      <td>0.440000</td>\n",
       "      <td>0.00</td>\n",
       "      <td>0.000000</td>\n",
       "      <td>0.00</td>\n",
       "    </tr>\n",
       "    <tr>\n",
       "      <th>3</th>\n",
       "      <td>Cortes</td>\n",
       "      <td>0.040000</td>\n",
       "      <td>0.040000</td>\n",
       "      <td>0.00</td>\n",
       "      <td>0.02</td>\n",
       "      <td>0.00</td>\n",
       "      <td>0.000000</td>\n",
       "      <td>0.00</td>\n",
       "      <td>0.02</td>\n",
       "      <td>0.220000</td>\n",
       "      <td>...</td>\n",
       "      <td>0.000000</td>\n",
       "      <td>0.00</td>\n",
       "      <td>0.04</td>\n",
       "      <td>0.00</td>\n",
       "      <td>0.260000</td>\n",
       "      <td>0.02</td>\n",
       "      <td>0.340000</td>\n",
       "      <td>0.00</td>\n",
       "      <td>0.000000</td>\n",
       "      <td>0.00</td>\n",
       "    </tr>\n",
       "    <tr>\n",
       "      <th>4</th>\n",
       "      <td>Hellín</td>\n",
       "      <td>0.020000</td>\n",
       "      <td>0.040000</td>\n",
       "      <td>0.00</td>\n",
       "      <td>0.00</td>\n",
       "      <td>0.00</td>\n",
       "      <td>0.000000</td>\n",
       "      <td>0.00</td>\n",
       "      <td>0.00</td>\n",
       "      <td>0.160000</td>\n",
       "      <td>...</td>\n",
       "      <td>0.020000</td>\n",
       "      <td>0.00</td>\n",
       "      <td>0.00</td>\n",
       "      <td>0.00</td>\n",
       "      <td>0.160000</td>\n",
       "      <td>0.00</td>\n",
       "      <td>0.600000</td>\n",
       "      <td>0.00</td>\n",
       "      <td>0.000000</td>\n",
       "      <td>0.00</td>\n",
       "    </tr>\n",
       "    <tr>\n",
       "      <th>5</th>\n",
       "      <td>Hispanoamérica</td>\n",
       "      <td>0.040000</td>\n",
       "      <td>0.040000</td>\n",
       "      <td>0.00</td>\n",
       "      <td>0.00</td>\n",
       "      <td>0.00</td>\n",
       "      <td>0.000000</td>\n",
       "      <td>0.00</td>\n",
       "      <td>0.00</td>\n",
       "      <td>0.120000</td>\n",
       "      <td>...</td>\n",
       "      <td>0.000000</td>\n",
       "      <td>0.00</td>\n",
       "      <td>0.00</td>\n",
       "      <td>0.00</td>\n",
       "      <td>0.360000</td>\n",
       "      <td>0.00</td>\n",
       "      <td>0.380000</td>\n",
       "      <td>0.00</td>\n",
       "      <td>0.000000</td>\n",
       "      <td>0.00</td>\n",
       "    </tr>\n",
       "    <tr>\n",
       "      <th>6</th>\n",
       "      <td>Los Cármenes</td>\n",
       "      <td>0.020000</td>\n",
       "      <td>0.060000</td>\n",
       "      <td>0.02</td>\n",
       "      <td>0.00</td>\n",
       "      <td>0.00</td>\n",
       "      <td>0.020000</td>\n",
       "      <td>0.00</td>\n",
       "      <td>0.00</td>\n",
       "      <td>0.120000</td>\n",
       "      <td>...</td>\n",
       "      <td>0.000000</td>\n",
       "      <td>0.00</td>\n",
       "      <td>0.00</td>\n",
       "      <td>0.00</td>\n",
       "      <td>0.240000</td>\n",
       "      <td>0.00</td>\n",
       "      <td>0.520000</td>\n",
       "      <td>0.00</td>\n",
       "      <td>0.000000</td>\n",
       "      <td>0.00</td>\n",
       "    </tr>\n",
       "    <tr>\n",
       "      <th>7</th>\n",
       "      <td>Los Ángeles</td>\n",
       "      <td>0.060000</td>\n",
       "      <td>0.020000</td>\n",
       "      <td>0.00</td>\n",
       "      <td>0.00</td>\n",
       "      <td>0.00</td>\n",
       "      <td>0.040000</td>\n",
       "      <td>0.00</td>\n",
       "      <td>0.00</td>\n",
       "      <td>0.100000</td>\n",
       "      <td>...</td>\n",
       "      <td>0.000000</td>\n",
       "      <td>0.00</td>\n",
       "      <td>0.00</td>\n",
       "      <td>0.00</td>\n",
       "      <td>0.220000</td>\n",
       "      <td>0.00</td>\n",
       "      <td>0.540000</td>\n",
       "      <td>0.00</td>\n",
       "      <td>0.000000</td>\n",
       "      <td>0.00</td>\n",
       "    </tr>\n",
       "    <tr>\n",
       "      <th>8</th>\n",
       "      <td>Palomeras Bajas</td>\n",
       "      <td>0.020000</td>\n",
       "      <td>0.060000</td>\n",
       "      <td>0.00</td>\n",
       "      <td>0.00</td>\n",
       "      <td>0.00</td>\n",
       "      <td>0.020000</td>\n",
       "      <td>0.00</td>\n",
       "      <td>0.00</td>\n",
       "      <td>0.140000</td>\n",
       "      <td>...</td>\n",
       "      <td>0.000000</td>\n",
       "      <td>0.02</td>\n",
       "      <td>0.00</td>\n",
       "      <td>0.00</td>\n",
       "      <td>0.240000</td>\n",
       "      <td>0.00</td>\n",
       "      <td>0.480000</td>\n",
       "      <td>0.00</td>\n",
       "      <td>0.000000</td>\n",
       "      <td>0.00</td>\n",
       "    </tr>\n",
       "    <tr>\n",
       "      <th>9</th>\n",
       "      <td>Rosas</td>\n",
       "      <td>0.040816</td>\n",
       "      <td>0.040816</td>\n",
       "      <td>0.00</td>\n",
       "      <td>0.00</td>\n",
       "      <td>0.00</td>\n",
       "      <td>0.020408</td>\n",
       "      <td>0.00</td>\n",
       "      <td>0.00</td>\n",
       "      <td>0.081633</td>\n",
       "      <td>...</td>\n",
       "      <td>0.020408</td>\n",
       "      <td>0.00</td>\n",
       "      <td>0.00</td>\n",
       "      <td>0.00</td>\n",
       "      <td>0.122449</td>\n",
       "      <td>0.00</td>\n",
       "      <td>0.632653</td>\n",
       "      <td>0.00</td>\n",
       "      <td>0.020408</td>\n",
       "      <td>0.00</td>\n",
       "    </tr>\n",
       "    <tr>\n",
       "      <th>10</th>\n",
       "      <td>San Isidro</td>\n",
       "      <td>0.060000</td>\n",
       "      <td>0.060000</td>\n",
       "      <td>0.02</td>\n",
       "      <td>0.00</td>\n",
       "      <td>0.02</td>\n",
       "      <td>0.020000</td>\n",
       "      <td>0.00</td>\n",
       "      <td>0.00</td>\n",
       "      <td>0.140000</td>\n",
       "      <td>...</td>\n",
       "      <td>0.000000</td>\n",
       "      <td>0.00</td>\n",
       "      <td>0.00</td>\n",
       "      <td>0.02</td>\n",
       "      <td>0.260000</td>\n",
       "      <td>0.00</td>\n",
       "      <td>0.380000</td>\n",
       "      <td>0.00</td>\n",
       "      <td>0.000000</td>\n",
       "      <td>0.02</td>\n",
       "    </tr>\n",
       "    <tr>\n",
       "      <th>11</th>\n",
       "      <td>Vista Alegre</td>\n",
       "      <td>0.060000</td>\n",
       "      <td>0.120000</td>\n",
       "      <td>0.00</td>\n",
       "      <td>0.00</td>\n",
       "      <td>0.00</td>\n",
       "      <td>0.000000</td>\n",
       "      <td>0.00</td>\n",
       "      <td>0.00</td>\n",
       "      <td>0.060000</td>\n",
       "      <td>...</td>\n",
       "      <td>0.000000</td>\n",
       "      <td>0.00</td>\n",
       "      <td>0.00</td>\n",
       "      <td>0.00</td>\n",
       "      <td>0.260000</td>\n",
       "      <td>0.00</td>\n",
       "      <td>0.480000</td>\n",
       "      <td>0.02</td>\n",
       "      <td>0.000000</td>\n",
       "      <td>0.00</td>\n",
       "    </tr>\n",
       "    <tr>\n",
       "      <th>12</th>\n",
       "      <td>Zofío</td>\n",
       "      <td>0.020000</td>\n",
       "      <td>0.060000</td>\n",
       "      <td>0.00</td>\n",
       "      <td>0.00</td>\n",
       "      <td>0.00</td>\n",
       "      <td>0.020000</td>\n",
       "      <td>0.00</td>\n",
       "      <td>0.00</td>\n",
       "      <td>0.060000</td>\n",
       "      <td>...</td>\n",
       "      <td>0.000000</td>\n",
       "      <td>0.00</td>\n",
       "      <td>0.00</td>\n",
       "      <td>0.00</td>\n",
       "      <td>0.260000</td>\n",
       "      <td>0.00</td>\n",
       "      <td>0.560000</td>\n",
       "      <td>0.02</td>\n",
       "      <td>0.000000</td>\n",
       "      <td>0.00</td>\n",
       "    </tr>\n",
       "  </tbody>\n",
       "</table>\n",
       "<p>13 rows × 23 columns</p>\n",
       "</div>"
      ],
      "text/plain": [
       "       Neighbourhood    Bakery       Bar  Beer Garden  Beer Store  Bistro  \\\n",
       "0   Alameda de Osuna  0.060000  0.060000         0.00        0.00    0.00   \n",
       "1            Almagro  0.000000  0.080000         0.00        0.00    0.00   \n",
       "2           Arapiles  0.000000  0.040000         0.00        0.00    0.00   \n",
       "3             Cortes  0.040000  0.040000         0.00        0.02    0.00   \n",
       "4             Hellín  0.020000  0.040000         0.00        0.00    0.00   \n",
       "5     Hispanoamérica  0.040000  0.040000         0.00        0.00    0.00   \n",
       "6       Los Cármenes  0.020000  0.060000         0.02        0.00    0.00   \n",
       "7        Los Ángeles  0.060000  0.020000         0.00        0.00    0.00   \n",
       "8    Palomeras Bajas  0.020000  0.060000         0.00        0.00    0.00   \n",
       "9              Rosas  0.040816  0.040816         0.00        0.00    0.00   \n",
       "10        San Isidro  0.060000  0.060000         0.02        0.00    0.02   \n",
       "11      Vista Alegre  0.060000  0.120000         0.00        0.00    0.00   \n",
       "12             Zofío  0.020000  0.060000         0.00        0.00    0.00   \n",
       "\n",
       "    Breakfast Spot  Butcher  Chocolate Shop  Coffee Shop  ...      Food  \\\n",
       "0         0.000000     0.02            0.00     0.140000  ...  0.020000   \n",
       "1         0.000000     0.00            0.02     0.240000  ...  0.000000   \n",
       "2         0.000000     0.00            0.02     0.240000  ...  0.000000   \n",
       "3         0.000000     0.00            0.02     0.220000  ...  0.000000   \n",
       "4         0.000000     0.00            0.00     0.160000  ...  0.020000   \n",
       "5         0.000000     0.00            0.00     0.120000  ...  0.000000   \n",
       "6         0.020000     0.00            0.00     0.120000  ...  0.000000   \n",
       "7         0.040000     0.00            0.00     0.100000  ...  0.000000   \n",
       "8         0.020000     0.00            0.00     0.140000  ...  0.000000   \n",
       "9         0.020408     0.00            0.00     0.081633  ...  0.020408   \n",
       "10        0.020000     0.00            0.00     0.140000  ...  0.000000   \n",
       "11        0.000000     0.00            0.00     0.060000  ...  0.000000   \n",
       "12        0.020000     0.00            0.00     0.060000  ...  0.000000   \n",
       "\n",
       "    Gas Station  Gourmet Shop  Ice Cream Shop    Market  Pastry Shop  \\\n",
       "0          0.00          0.00            0.00  0.060000         0.00   \n",
       "1          0.00          0.04            0.00  0.260000         0.02   \n",
       "2          0.00          0.04            0.00  0.200000         0.02   \n",
       "3          0.00          0.04            0.00  0.260000         0.02   \n",
       "4          0.00          0.00            0.00  0.160000         0.00   \n",
       "5          0.00          0.00            0.00  0.360000         0.00   \n",
       "6          0.00          0.00            0.00  0.240000         0.00   \n",
       "7          0.00          0.00            0.00  0.220000         0.00   \n",
       "8          0.02          0.00            0.00  0.240000         0.00   \n",
       "9          0.00          0.00            0.00  0.122449         0.00   \n",
       "10         0.00          0.00            0.02  0.260000         0.00   \n",
       "11         0.00          0.00            0.00  0.260000         0.00   \n",
       "12         0.00          0.00            0.00  0.260000         0.00   \n",
       "\n",
       "    Restaurant  Snack Place  Steakhouse  Wine Shop  \n",
       "0     0.620000         0.00    0.020000       0.00  \n",
       "1     0.340000         0.00    0.000000       0.00  \n",
       "2     0.440000         0.00    0.000000       0.00  \n",
       "3     0.340000         0.00    0.000000       0.00  \n",
       "4     0.600000         0.00    0.000000       0.00  \n",
       "5     0.380000         0.00    0.000000       0.00  \n",
       "6     0.520000         0.00    0.000000       0.00  \n",
       "7     0.540000         0.00    0.000000       0.00  \n",
       "8     0.480000         0.00    0.000000       0.00  \n",
       "9     0.632653         0.00    0.020408       0.00  \n",
       "10    0.380000         0.00    0.000000       0.02  \n",
       "11    0.480000         0.02    0.000000       0.00  \n",
       "12    0.560000         0.02    0.000000       0.00  \n",
       "\n",
       "[13 rows x 23 columns]"
      ]
     },
     "execution_count": 326,
     "metadata": {},
     "output_type": "execute_result"
    }
   ],
   "source": [
    "madrid_grouped = madrid_onehot.groupby('Neighbourhood').mean().reset_index()\n",
    "print(f'Size: {madrid_grouped.shape}')\n",
    "madrid_grouped"
   ]
  },
  {
   "cell_type": "markdown",
   "metadata": {},
   "source": [
    "__Most common types of venue in each neighbourhood__"
   ]
  },
  {
   "cell_type": "code",
   "execution_count": 327,
   "metadata": {},
   "outputs": [
    {
     "name": "stdout",
     "output_type": "stream",
     "text": [
      "----Alameda de Osuna----\n",
      "         Venue  Frequency\n",
      "0   Restaurant       0.62\n",
      "1  Coffee Shop       0.14\n",
      "2       Bakery       0.06\n",
      "3       Market       0.06\n",
      "4          Bar       0.06\n",
      "\n",
      "\n",
      "----Almagro----\n",
      "          Venue  Frequency\n",
      "0    Restaurant       0.34\n",
      "1        Market       0.26\n",
      "2   Coffee Shop       0.24\n",
      "3           Bar       0.08\n",
      "4  Gourmet Shop       0.04\n",
      "\n",
      "\n",
      "----Arapiles----\n",
      "          Venue  Frequency\n",
      "0    Restaurant       0.44\n",
      "1   Coffee Shop       0.24\n",
      "2        Market       0.20\n",
      "3  Gourmet Shop       0.04\n",
      "4           Bar       0.04\n",
      "\n",
      "\n",
      "----Cortes----\n",
      "         Venue  Frequency\n",
      "0   Restaurant       0.34\n",
      "1       Market       0.26\n",
      "2  Coffee Shop       0.22\n",
      "3       Bakery       0.04\n",
      "4          Bar       0.04\n",
      "\n",
      "\n",
      "----Hellín----\n",
      "         Venue  Frequency\n",
      "0   Restaurant       0.60\n",
      "1       Market       0.16\n",
      "2  Coffee Shop       0.16\n",
      "3          Bar       0.04\n",
      "4       Bakery       0.02\n",
      "\n",
      "\n",
      "----Hispanoamérica----\n",
      "         Venue  Frequency\n",
      "0   Restaurant       0.38\n",
      "1       Market       0.36\n",
      "2  Coffee Shop       0.12\n",
      "3       Bakery       0.04\n",
      "4          Bar       0.04\n",
      "\n",
      "\n",
      "----Los Cármenes----\n",
      "         Venue  Frequency\n",
      "0   Restaurant       0.52\n",
      "1       Market       0.24\n",
      "2  Coffee Shop       0.12\n",
      "3          Bar       0.06\n",
      "4       Bakery       0.02\n",
      "\n",
      "\n",
      "----Los Ángeles----\n",
      "            Venue  Frequency\n",
      "0      Restaurant       0.54\n",
      "1          Market       0.22\n",
      "2     Coffee Shop       0.10\n",
      "3          Bakery       0.06\n",
      "4  Breakfast Spot       0.04\n",
      "\n",
      "\n",
      "----Palomeras Bajas----\n",
      "         Venue  Frequency\n",
      "0   Restaurant       0.48\n",
      "1       Market       0.24\n",
      "2  Coffee Shop       0.14\n",
      "3          Bar       0.06\n",
      "4       Bakery       0.02\n",
      "\n",
      "\n",
      "----Rosas----\n",
      "         Venue  Frequency\n",
      "0   Restaurant       0.63\n",
      "1       Market       0.12\n",
      "2  Coffee Shop       0.08\n",
      "3       Bakery       0.04\n",
      "4          Bar       0.04\n",
      "\n",
      "\n",
      "----San Isidro----\n",
      "         Venue  Frequency\n",
      "0   Restaurant       0.38\n",
      "1       Market       0.26\n",
      "2  Coffee Shop       0.14\n",
      "3       Bakery       0.06\n",
      "4          Bar       0.06\n",
      "\n",
      "\n",
      "----Vista Alegre----\n",
      "         Venue  Frequency\n",
      "0   Restaurant       0.48\n",
      "1       Market       0.26\n",
      "2          Bar       0.12\n",
      "3       Bakery       0.06\n",
      "4  Coffee Shop       0.06\n",
      "\n",
      "\n",
      "----Zofío----\n",
      "         Venue  Frequency\n",
      "0   Restaurant       0.56\n",
      "1       Market       0.26\n",
      "2  Coffee Shop       0.06\n",
      "3          Bar       0.06\n",
      "4       Bakery       0.02\n",
      "\n",
      "\n"
     ]
    }
   ],
   "source": [
    "# Only show the 5 most common categories\n",
    "num_top_venues = 5\n",
    "\n",
    "for neighbourhood in madrid_grouped['Neighbourhood']:\n",
    "    print(\"----\"+neighbourhood+\"----\")\n",
    "    temp = madrid_grouped[madrid_grouped['Neighbourhood'] == neighbourhood].T.reset_index()\n",
    "    temp.columns = ['Venue','Frequency']\n",
    "    temp = temp.iloc[1:]\n",
    "    temp['Frequency'] = temp['Frequency'].astype(float)\n",
    "    temp = temp.round({'Frequency': 2})\n",
    "    print(temp.sort_values('Frequency', ascending=False).reset_index(drop=True).head(num_top_venues))\n",
    "    print('\\n')"
   ]
  },
  {
   "cell_type": "code",
   "execution_count": null,
   "metadata": {},
   "outputs": [],
   "source": []
  },
  {
   "cell_type": "markdown",
   "metadata": {},
   "source": [
    "#### Loading census data file<a class=\"anchor\" id=\"loading-census\"></a>"
   ]
  },
  {
   "cell_type": "code",
   "execution_count": null,
   "metadata": {},
   "outputs": [],
   "source": []
  },
  {
   "cell_type": "markdown",
   "metadata": {},
   "source": []
  },
  {
   "cell_type": "code",
   "execution_count": null,
   "metadata": {},
   "outputs": [],
   "source": []
  },
  {
   "cell_type": "markdown",
   "metadata": {},
   "source": [
    "### Neighbourhood segmentation <a class=\"anchor\" id=\"neighbourhood-segmentation\"></a>"
   ]
  },
  {
   "cell_type": "markdown",
   "metadata": {},
   "source": []
  },
  {
   "cell_type": "code",
   "execution_count": null,
   "metadata": {},
   "outputs": [],
   "source": []
  },
  {
   "cell_type": "markdown",
   "metadata": {},
   "source": [
    "### Census analysis <a class=\"anchor\" id=\"census-analysis\"></a>"
   ]
  },
  {
   "cell_type": "markdown",
   "metadata": {},
   "source": []
  },
  {
   "cell_type": "code",
   "execution_count": null,
   "metadata": {},
   "outputs": [],
   "source": []
  },
  {
   "cell_type": "markdown",
   "metadata": {},
   "source": [
    "## Results and discussion <a class=\"anchor\" id=\"results-and-discussion\"></a>"
   ]
  },
  {
   "cell_type": "markdown",
   "metadata": {},
   "source": []
  },
  {
   "cell_type": "markdown",
   "metadata": {},
   "source": [
    "## Conclusion <a class=\"anchor\" id=\"conclusion\"></a>"
   ]
  },
  {
   "cell_type": "markdown",
   "metadata": {},
   "source": []
  }
 ],
 "metadata": {
  "kernelspec": {
   "display_name": "Python 3",
   "language": "python",
   "name": "python3"
  },
  "language_info": {
   "codemirror_mode": {
    "name": "ipython",
    "version": 3
   },
   "file_extension": ".py",
   "mimetype": "text/x-python",
   "name": "python",
   "nbconvert_exporter": "python",
   "pygments_lexer": "ipython3",
   "version": "3.8.3"
  }
 },
 "nbformat": 4,
 "nbformat_minor": 4
}
